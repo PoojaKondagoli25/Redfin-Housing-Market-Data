{
 "cells": [
  {
   "cell_type": "markdown",
   "metadata": {},
   "source": [
    "# REDFIN HOUSING 2023 DATA PREPROCESSING AND ANALYSIS"
   ]
  },
  {
   "cell_type": "markdown",
   "metadata": {},
   "source": [
    "## Data-preprocessing \n",
    "\n",
    "-Extract 2023 data \n",
    "\n",
    "-Drop city column as it has 100% missing value \n",
    "\n",
    "-Identify the columns with the missing values and populating the appropriate values for it"
   ]
  },
  {
   "cell_type": "code",
   "execution_count": 1,
   "metadata": {},
   "outputs": [
    {
     "data": {
      "text/html": [
       "<div>\n",
       "<style scoped>\n",
       "    .dataframe tbody tr th:only-of-type {\n",
       "        vertical-align: middle;\n",
       "    }\n",
       "\n",
       "    .dataframe tbody tr th {\n",
       "        vertical-align: top;\n",
       "    }\n",
       "\n",
       "    .dataframe thead th {\n",
       "        text-align: right;\n",
       "    }\n",
       "</style>\n",
       "<table border=\"1\" class=\"dataframe\">\n",
       "  <thead>\n",
       "    <tr style=\"text-align: right;\">\n",
       "      <th></th>\n",
       "      <th>period_begin</th>\n",
       "      <th>period_end</th>\n",
       "      <th>period_duration</th>\n",
       "      <th>region_type</th>\n",
       "      <th>region_type_id</th>\n",
       "      <th>table_id</th>\n",
       "      <th>is_seasonally_adjusted</th>\n",
       "      <th>region</th>\n",
       "      <th>city</th>\n",
       "      <th>state</th>\n",
       "      <th>...</th>\n",
       "      <th>sold_above_list_yoy</th>\n",
       "      <th>price_drops</th>\n",
       "      <th>price_drops_mom</th>\n",
       "      <th>price_drops_yoy</th>\n",
       "      <th>off_market_in_two_weeks</th>\n",
       "      <th>off_market_in_two_weeks_mom</th>\n",
       "      <th>off_market_in_two_weeks_yoy</th>\n",
       "      <th>parent_metro_region</th>\n",
       "      <th>parent_metro_region_metro_code</th>\n",
       "      <th>last_updated</th>\n",
       "    </tr>\n",
       "  </thead>\n",
       "  <tbody>\n",
       "    <tr>\n",
       "      <th>0</th>\n",
       "      <td>2023-08-01</td>\n",
       "      <td>2023-08-31</td>\n",
       "      <td>30</td>\n",
       "      <td>county</td>\n",
       "      <td>5</td>\n",
       "      <td>2559</td>\n",
       "      <td>f</td>\n",
       "      <td>Cocke County, TN</td>\n",
       "      <td>NaN</td>\n",
       "      <td>Tennessee</td>\n",
       "      <td>...</td>\n",
       "      <td>-0.061617</td>\n",
       "      <td>0.258427</td>\n",
       "      <td>-0.037028</td>\n",
       "      <td>0.105885</td>\n",
       "      <td>0.458333</td>\n",
       "      <td>0.125000</td>\n",
       "      <td>0.333333</td>\n",
       "      <td>Newport, TN</td>\n",
       "      <td>35460.0</td>\n",
       "      <td>2024-02-11 14:26:11</td>\n",
       "    </tr>\n",
       "    <tr>\n",
       "      <th>1</th>\n",
       "      <td>2016-06-01</td>\n",
       "      <td>2016-06-30</td>\n",
       "      <td>30</td>\n",
       "      <td>county</td>\n",
       "      <td>5</td>\n",
       "      <td>579</td>\n",
       "      <td>f</td>\n",
       "      <td>Houston County, GA</td>\n",
       "      <td>NaN</td>\n",
       "      <td>Georgia</td>\n",
       "      <td>...</td>\n",
       "      <td>0.042244</td>\n",
       "      <td>NaN</td>\n",
       "      <td>NaN</td>\n",
       "      <td>NaN</td>\n",
       "      <td>0.022727</td>\n",
       "      <td>-0.017273</td>\n",
       "      <td>-0.071023</td>\n",
       "      <td>Warner Robins, GA</td>\n",
       "      <td>47580.0</td>\n",
       "      <td>2024-02-11 14:26:11</td>\n",
       "    </tr>\n",
       "    <tr>\n",
       "      <th>2</th>\n",
       "      <td>2014-07-01</td>\n",
       "      <td>2014-07-31</td>\n",
       "      <td>30</td>\n",
       "      <td>county</td>\n",
       "      <td>5</td>\n",
       "      <td>1297</td>\n",
       "      <td>f</td>\n",
       "      <td>Franklin County, ME</td>\n",
       "      <td>NaN</td>\n",
       "      <td>Maine</td>\n",
       "      <td>...</td>\n",
       "      <td>-0.001923</td>\n",
       "      <td>NaN</td>\n",
       "      <td>NaN</td>\n",
       "      <td>NaN</td>\n",
       "      <td>0.000000</td>\n",
       "      <td>0.000000</td>\n",
       "      <td>0.000000</td>\n",
       "      <td>Maine nonmetropolitan area</td>\n",
       "      <td>NaN</td>\n",
       "      <td>2024-02-11 14:26:11</td>\n",
       "    </tr>\n",
       "    <tr>\n",
       "      <th>3</th>\n",
       "      <td>2018-10-01</td>\n",
       "      <td>2018-10-31</td>\n",
       "      <td>30</td>\n",
       "      <td>county</td>\n",
       "      <td>5</td>\n",
       "      <td>1459</td>\n",
       "      <td>f</td>\n",
       "      <td>Hubbard County, MN</td>\n",
       "      <td>NaN</td>\n",
       "      <td>Minnesota</td>\n",
       "      <td>...</td>\n",
       "      <td>0.087045</td>\n",
       "      <td>0.099291</td>\n",
       "      <td>-0.053252</td>\n",
       "      <td>0.017324</td>\n",
       "      <td>0.181818</td>\n",
       "      <td>-0.010490</td>\n",
       "      <td>-0.133971</td>\n",
       "      <td>Minnesota nonmetropolitan area</td>\n",
       "      <td>NaN</td>\n",
       "      <td>2024-02-11 14:26:11</td>\n",
       "    </tr>\n",
       "    <tr>\n",
       "      <th>4</th>\n",
       "      <td>2014-10-01</td>\n",
       "      <td>2014-10-31</td>\n",
       "      <td>30</td>\n",
       "      <td>county</td>\n",
       "      <td>5</td>\n",
       "      <td>3246</td>\n",
       "      <td>f</td>\n",
       "      <td>Lincoln County, WY</td>\n",
       "      <td>NaN</td>\n",
       "      <td>Wyoming</td>\n",
       "      <td>...</td>\n",
       "      <td>0.000000</td>\n",
       "      <td>NaN</td>\n",
       "      <td>NaN</td>\n",
       "      <td>NaN</td>\n",
       "      <td>0.000000</td>\n",
       "      <td>0.000000</td>\n",
       "      <td>0.000000</td>\n",
       "      <td>Wyoming nonmetropolitan area</td>\n",
       "      <td>NaN</td>\n",
       "      <td>2024-02-11 14:26:11</td>\n",
       "    </tr>\n",
       "  </tbody>\n",
       "</table>\n",
       "<p>5 rows × 58 columns</p>\n",
       "</div>"
      ],
      "text/plain": [
       "  period_begin  period_end  period_duration region_type  region_type_id  \\\n",
       "0   2023-08-01  2023-08-31               30      county               5   \n",
       "1   2016-06-01  2016-06-30               30      county               5   \n",
       "2   2014-07-01  2014-07-31               30      county               5   \n",
       "3   2018-10-01  2018-10-31               30      county               5   \n",
       "4   2014-10-01  2014-10-31               30      county               5   \n",
       "\n",
       "   table_id is_seasonally_adjusted               region  city      state  ...  \\\n",
       "0      2559                      f     Cocke County, TN   NaN  Tennessee  ...   \n",
       "1       579                      f   Houston County, GA   NaN    Georgia  ...   \n",
       "2      1297                      f  Franklin County, ME   NaN      Maine  ...   \n",
       "3      1459                      f   Hubbard County, MN   NaN  Minnesota  ...   \n",
       "4      3246                      f   Lincoln County, WY   NaN    Wyoming  ...   \n",
       "\n",
       "  sold_above_list_yoy price_drops  price_drops_mom  price_drops_yoy  \\\n",
       "0           -0.061617    0.258427        -0.037028         0.105885   \n",
       "1            0.042244         NaN              NaN              NaN   \n",
       "2           -0.001923         NaN              NaN              NaN   \n",
       "3            0.087045    0.099291        -0.053252         0.017324   \n",
       "4            0.000000         NaN              NaN              NaN   \n",
       "\n",
       "   off_market_in_two_weeks  off_market_in_two_weeks_mom  \\\n",
       "0                 0.458333                     0.125000   \n",
       "1                 0.022727                    -0.017273   \n",
       "2                 0.000000                     0.000000   \n",
       "3                 0.181818                    -0.010490   \n",
       "4                 0.000000                     0.000000   \n",
       "\n",
       "   off_market_in_two_weeks_yoy             parent_metro_region  \\\n",
       "0                     0.333333                     Newport, TN   \n",
       "1                    -0.071023               Warner Robins, GA   \n",
       "2                     0.000000      Maine nonmetropolitan area   \n",
       "3                    -0.133971  Minnesota nonmetropolitan area   \n",
       "4                     0.000000    Wyoming nonmetropolitan area   \n",
       "\n",
       "   parent_metro_region_metro_code         last_updated  \n",
       "0                         35460.0  2024-02-11 14:26:11  \n",
       "1                         47580.0  2024-02-11 14:26:11  \n",
       "2                             NaN  2024-02-11 14:26:11  \n",
       "3                             NaN  2024-02-11 14:26:11  \n",
       "4                             NaN  2024-02-11 14:26:11  \n",
       "\n",
       "[5 rows x 58 columns]"
      ]
     },
     "execution_count": 1,
     "metadata": {},
     "output_type": "execute_result"
    }
   ],
   "source": [
    "import pandas as pd \n",
    "df = pd.read_csv('pandas_Redffin_housing_data (1).csv')\n",
    "df.head(5)"
   ]
  },
  {
   "cell_type": "markdown",
   "metadata": {},
   "source": [
    "Extracting 2023 year data"
   ]
  },
  {
   "cell_type": "code",
   "execution_count": 2,
   "metadata": {},
   "outputs": [
    {
     "data": {
      "text/plain": [
       "(98673, 58)"
      ]
     },
     "execution_count": 2,
     "metadata": {},
     "output_type": "execute_result"
    }
   ],
   "source": [
    "df['period_begin'] = pd.to_datetime(df['period_begin'])\n",
    "df_2023 = df[df['period_begin'].dt.year == 2023]\n",
    "df_2023.shape"
   ]
  },
  {
   "cell_type": "markdown",
   "metadata": {},
   "source": [
    "Identity the missing values columns"
   ]
  },
  {
   "cell_type": "code",
   "execution_count": 3,
   "metadata": {},
   "outputs": [
    {
     "data": {
      "text/plain": [
       "period_begin                          0\n",
       "period_end                            0\n",
       "period_duration                       0\n",
       "region_type                           0\n",
       "region_type_id                        0\n",
       "table_id                              0\n",
       "is_seasonally_adjusted                0\n",
       "region                                0\n",
       "city                              98673\n",
       "state                                 0\n",
       "state_code                            0\n",
       "property_type                         0\n",
       "property_type_id                      0\n",
       "median_sale_price                   100\n",
       "median_sale_price_mom              9077\n",
       "median_sale_price_yoy              8766\n",
       "median_list_price                  6975\n",
       "median_list_price_mom             13617\n",
       "median_list_price_yoy             13919\n",
       "median_ppsf                         832\n",
       "median_ppsf_mom                    9684\n",
       "median_ppsf_yoy                    9411\n",
       "median_list_ppsf                   6993\n",
       "median_list_ppsf_mom              13640\n",
       "median_list_ppsf_yoy              13946\n",
       "homes_sold                           98\n",
       "homes_sold_mom                     9073\n",
       "homes_sold_yoy                     8764\n",
       "pending_sales                      9660\n",
       "pending_sales_mom                 17162\n",
       "pending_sales_yoy                 17129\n",
       "new_listings                       7288\n",
       "new_listings_mom                  13905\n",
       "new_listings_yoy                  14184\n",
       "inventory                          3907\n",
       "inventory_mom                     10966\n",
       "inventory_yoy                     11200\n",
       "months_of_supply                   3138\n",
       "months_of_supply_mom              10226\n",
       "months_of_supply_yoy              10471\n",
       "median_dom                          694\n",
       "median_dom_mom                     9649\n",
       "median_dom_yoy                     9510\n",
       "avg_sale_to_list                   7785\n",
       "avg_sale_to_list_mom              16572\n",
       "avg_sale_to_list_yoy              16296\n",
       "sold_above_list                     555\n",
       "sold_above_list_mom                9515\n",
       "sold_above_list_yoy                9203\n",
       "price_drops                       15374\n",
       "price_drops_mom                   22328\n",
       "price_drops_yoy                   35967\n",
       "off_market_in_two_weeks            8129\n",
       "off_market_in_two_weeks_mom       15718\n",
       "off_market_in_two_weeks_yoy       15668\n",
       "parent_metro_region                   0\n",
       "parent_metro_region_metro_code    28854\n",
       "last_updated                          0\n",
       "dtype: int64"
      ]
     },
     "execution_count": 3,
     "metadata": {},
     "output_type": "execute_result"
    }
   ],
   "source": [
    "df_2023.isnull().sum()"
   ]
  },
  {
   "cell_type": "markdown",
   "metadata": {},
   "source": [
    "Drop city column"
   ]
  },
  {
   "cell_type": "code",
   "execution_count": 4,
   "metadata": {},
   "outputs": [],
   "source": [
    "df_2023 = df_2023.drop(columns=['city'])"
   ]
  },
  {
   "cell_type": "markdown",
   "metadata": {},
   "source": [
    "Calculating missing value percentage"
   ]
  },
  {
   "cell_type": "code",
   "execution_count": 5,
   "metadata": {},
   "outputs": [
    {
     "name": "stdout",
     "output_type": "stream",
     "text": [
      "Total_2023_records 5624361 Total missing values 475948\n",
      " percentage of missing values 8.462259090410448%\n"
     ]
    }
   ],
   "source": [
    "Total_2023_records=df_2023.shape[0]*df_2023.shape[1]\n",
    "Total_missing_values=df_2023.isnull().sum().sum()\n",
    "print(f'Total_2023_records {Total_2023_records} Total missing values {Total_missing_values}')\n",
    "print(f' percentage of missing values {(Total_missing_values/Total_2023_records)*100}%')\n"
   ]
  },
  {
   "cell_type": "code",
   "execution_count": 6,
   "metadata": {},
   "outputs": [],
   "source": [
    "df_2023.to_csv('redfin_data_2023.csv', index=False)"
   ]
  },
  {
   "cell_type": "markdown",
   "metadata": {},
   "source": [
    "Replacing median sale price missing values by overall mean value"
   ]
  },
  {
   "cell_type": "code",
   "execution_count": 7,
   "metadata": {},
   "outputs": [],
   "source": [
    "\n",
    "df_2023['median_sale_price'] = df_2023['median_sale_price'].fillna(df_2023['median_sale_price'].mean())\n",
    "df_2023['median_sale_price_mom'] = df_2023['median_sale_price_mom'].fillna(df_2023['median_sale_price_mom'].mean())\n",
    "df_2023['median_sale_price_yoy'] = df_2023['median_sale_price_yoy'].fillna(df_2023['median_sale_price_yoy'].mean())"
   ]
  },
  {
   "cell_type": "markdown",
   "metadata": {},
   "source": [
    "Replacing median list price missing values by overall mean value"
   ]
  },
  {
   "cell_type": "code",
   "execution_count": 8,
   "metadata": {},
   "outputs": [],
   "source": [
    "df_2023['median_list_price'] = df_2023['median_list_price'].fillna(df_2023['median_list_price'].mean())\n",
    "df_2023['median_list_price_mom'] = df_2023['median_list_price_mom'].fillna(df_2023['median_list_price_mom'].mean())\n",
    "df_2023['median_list_price_yoy'] = df_2023['median_list_price_yoy'].fillna(df_2023['median_list_price_yoy'].mean())"
   ]
  },
  {
   "cell_type": "markdown",
   "metadata": {},
   "source": [
    "Replacing median ppsf (price per sqft) price missing values by mean value of each property type"
   ]
  },
  {
   "cell_type": "code",
   "execution_count": 9,
   "metadata": {},
   "outputs": [
    {
     "name": "stdout",
     "output_type": "stream",
     "text": [
      "All Residential\n",
      "median_ppsf        166.937223\n",
      "median_ppsf_mom      0.147202\n",
      "median_ppsf_yoy      0.196475\n",
      "dtype: float64\n",
      "Single Family Residential\n",
      "median_ppsf        166.942187\n",
      "median_ppsf_mom      0.146383\n",
      "median_ppsf_yoy      0.195361\n",
      "dtype: float64\n",
      "Condo/Co-op\n",
      "median_ppsf        264.304967\n",
      "median_ppsf_mom      0.228057\n",
      "median_ppsf_yoy      0.117198\n",
      "dtype: float64\n",
      "Townhouse\n",
      "median_ppsf        222.360757\n",
      "median_ppsf_mom      0.100934\n",
      "median_ppsf_yoy      0.155654\n",
      "dtype: float64\n",
      "Multi-Family (2-4 Unit)\n",
      "median_ppsf        180.882556\n",
      "median_ppsf_mom      0.516496\n",
      "median_ppsf_yoy      0.390827\n",
      "dtype: float64\n"
     ]
    }
   ],
   "source": [
    "# Convert columns to numeric data types\n",
    "numeric_cols = ['median_ppsf', 'median_ppsf_mom', 'median_ppsf_yoy']\n",
    "df_2023[numeric_cols] = df_2023[numeric_cols].apply(pd.to_numeric, errors='coerce')\n",
    "\n",
    "# Iterate over each property type\n",
    "for property_type in df_2023['property_type'].unique():\n",
    "    # Filter the DataFrame for the current property type\n",
    "    property_df = df_2023[df_2023['property_type'] == property_type]\n",
    "    \n",
    "    # Calculate mean for each numeric column\n",
    "    property_means = property_df[numeric_cols].mean()\n",
    "    \n",
    "    # Fill null values with the mean for the current property type\n",
    "    df_2023.loc[df_2023['property_type'] == property_type, numeric_cols] = df_2023.loc[df_2023['property_type'] == property_type, numeric_cols].fillna(property_means)\n",
    "    print(property_type)\n",
    "    print(property_means)\n",
    "\n"
   ]
  },
  {
   "cell_type": "markdown",
   "metadata": {},
   "source": [
    "Replacing median list ppsf (price per sqft) price missing values by mean value of each property type"
   ]
  },
  {
   "cell_type": "code",
   "execution_count": 10,
   "metadata": {},
   "outputs": [],
   "source": [
    "# Convert columns to numeric data types\n",
    "numeric_cols_listprice = ['median_list_ppsf', 'median_list_ppsf_mom', 'median_list_ppsf_yoy']\n",
    "df_2023[numeric_cols_listprice] = df_2023[numeric_cols_listprice].apply(pd.to_numeric, errors='coerce')\n",
    "\n",
    "# Iterate over each property type\n",
    "for property_type in df_2023['property_type'].unique():\n",
    "    # Filter the DataFrame for the current property type\n",
    "    property_df = df_2023[df_2023['property_type'] == property_type]\n",
    "    \n",
    "    # Calculate mean for each numeric column\n",
    "    property_means = property_df[numeric_cols_listprice].mean()\n",
    "    \n",
    "    # Fill null values with the mean for the current property type\n",
    "    df_2023.loc[df_2023['property_type'] == property_type, numeric_cols_listprice] = df_2023.loc[df_2023['property_type'] == property_type, numeric_cols_listprice].fillna(property_means)"
   ]
  },
  {
   "cell_type": "markdown",
   "metadata": {},
   "source": [
    "Replacing home sold missing values by mean value of each month"
   ]
  },
  {
   "cell_type": "code",
   "execution_count": 11,
   "metadata": {},
   "outputs": [
    {
     "name": "stdout",
     "output_type": "stream",
     "text": [
      "1 51.27031869960322\n",
      "2 58.247718052738335\n",
      "3 75.3700012009127\n",
      "4 71.03335384615384\n",
      "5 82.98552804688434\n",
      "6 87.54126270986049\n",
      "7 76.35792646172393\n",
      "8 81.51039451925348\n",
      "9 71.99116945107399\n",
      "10 69.42888138862102\n",
      "11 63.7144091863193\n",
      "12 61.93839097557952\n"
     ]
    }
   ],
   "source": [
    "df_2023['period_begin'] = pd.to_datetime(df_2023['period_begin'])\n",
    "df_2023['month'] = df_2023['period_begin'].dt.month\n",
    "# Group by month and calculate mean of 'homes_sold'\n",
    "monthly_means = df_2023.groupby('month')['homes_sold'].mean()\n",
    "monthly_means\n",
    "# Fill null values in 'homes_sold' column with corresponding mean for each month\n",
    "for month, mean_homes_sold in monthly_means.items():\n",
    "    df_2023.loc[df_2023['month'] == month, 'homes_sold'] = df_2023.loc[df_2023['month'] == month, 'homes_sold'].fillna(mean_homes_sold)\n",
    "    print(month,mean_homes_sold)\n",
    "# Drop the 'month' column if no longer needed\n",
    "#df_2023.drop(columns=['month'], inplace=True)"
   ]
  },
  {
   "cell_type": "markdown",
   "metadata": {},
   "source": [
    "Verify missing value count"
   ]
  },
  {
   "cell_type": "code",
   "execution_count": 13,
   "metadata": {},
   "outputs": [
    {
     "data": {
      "text/plain": [
       "period_begin                          0\n",
       "period_end                            0\n",
       "period_duration                       0\n",
       "region_type                           0\n",
       "region_type_id                        0\n",
       "table_id                              0\n",
       "is_seasonally_adjusted                0\n",
       "region                                0\n",
       "state                                 0\n",
       "state_code                            0\n",
       "property_type                         0\n",
       "property_type_id                      0\n",
       "median_sale_price                     0\n",
       "median_sale_price_mom                 0\n",
       "median_sale_price_yoy                 0\n",
       "median_list_price                     0\n",
       "median_list_price_mom                 0\n",
       "median_list_price_yoy                 0\n",
       "median_ppsf                           0\n",
       "median_ppsf_mom                       0\n",
       "median_ppsf_yoy                       0\n",
       "median_list_ppsf                      0\n",
       "median_list_ppsf_mom                  0\n",
       "median_list_ppsf_yoy                  0\n",
       "homes_sold                            0\n",
       "homes_sold_mom                     9073\n",
       "homes_sold_yoy                     8764\n",
       "pending_sales                      9660\n",
       "pending_sales_mom                 17162\n",
       "pending_sales_yoy                 17129\n",
       "new_listings                       7288\n",
       "new_listings_mom                  13905\n",
       "new_listings_yoy                  14184\n",
       "inventory                          3907\n",
       "inventory_mom                     10966\n",
       "inventory_yoy                     11200\n",
       "months_of_supply                   3138\n",
       "months_of_supply_mom              10226\n",
       "months_of_supply_yoy              10471\n",
       "median_dom                          694\n",
       "median_dom_mom                     9649\n",
       "median_dom_yoy                     9510\n",
       "avg_sale_to_list                   7785\n",
       "avg_sale_to_list_mom              16572\n",
       "avg_sale_to_list_yoy              16296\n",
       "sold_above_list                     555\n",
       "sold_above_list_mom                9515\n",
       "sold_above_list_yoy                9203\n",
       "price_drops                       15374\n",
       "price_drops_mom                   22328\n",
       "price_drops_yoy                   35967\n",
       "off_market_in_two_weeks            8129\n",
       "off_market_in_two_weeks_mom       15718\n",
       "off_market_in_two_weeks_yoy       15668\n",
       "parent_metro_region                   0\n",
       "parent_metro_region_metro_code    28854\n",
       "last_updated                          0\n",
       "month                                 0\n",
       "dtype: int64"
      ]
     },
     "execution_count": 13,
     "metadata": {},
     "output_type": "execute_result"
    }
   ],
   "source": [
    "df_2023.isnull().sum()"
   ]
  },
  {
   "cell_type": "markdown",
   "metadata": {},
   "source": [
    "## PROPOSED QUESTIONS"
   ]
  },
  {
   "cell_type": "markdown",
   "metadata": {},
   "source": [
    "Import libraries and Redfin housing dataset"
   ]
  },
  {
   "cell_type": "code",
   "execution_count": 14,
   "metadata": {},
   "outputs": [],
   "source": [
    "#Import required libraries and read the file in CSV format.\n",
    "import pandas as pd\n",
    "import matplotlib.pyplot as plt\n",
    "import numpy as np\n",
    "housing_data = pd.read_csv('redfin_data_2023.csv')"
   ]
  },
  {
   "cell_type": "markdown",
   "metadata": {},
   "source": [
    "Q1.In what way are the maximum, minimum, and average home sales vary across different property types?"
   ]
  },
  {
   "cell_type": "code",
   "execution_count": 15,
   "metadata": {},
   "outputs": [],
   "source": [
    "#define a function to calculate maximum, minimum, and average home sales\n",
    "def property_type_analysis(housing_data):\n",
    "    # Group by 'property_type' and calculate the maximum ,minimum  and avg number of homes sold\n",
    "    temp = housing_data.groupby('property_type')['homes_sold'].agg(['max', 'min','mean']).reset_index()\n",
    "    return temp"
   ]
  },
  {
   "cell_type": "code",
   "execution_count": 16,
   "metadata": {},
   "outputs": [
    {
     "name": "stdout",
     "output_type": "stream",
     "text": [
      "            property_type    max  min       mean\n",
      "          All Residential 6444.0  1.0 105.044550\n",
      "              Condo/Co-op 2168.0  1.0  31.685307\n",
      "  Multi-Family (2-4 Unit)  379.0  1.0   7.371951\n",
      "Single Family Residential 5238.0  1.0  84.627158\n",
      "                Townhouse 1277.0  1.0  26.532289\n",
      "     property_type     max  min       mean\n",
      "0  All Residential  6444.0  1.0  105.04455\n"
     ]
    }
   ],
   "source": [
    "max_min_avg_home_sold= property_type_analysis(housing_data)\n",
    "print(max_min_avg_home_sold.to_string(index=False))\n",
    "print(max_min_avg_home_sold[max_min_avg_home_sold['property_type']=='All Residential'])"
   ]
  },
  {
   "cell_type": "markdown",
   "metadata": {},
   "source": [
    "Q2.How is the study of home listings and pricing vary based on the chosen county and property type?"
   ]
  },
  {
   "cell_type": "code",
   "execution_count": 17,
   "metadata": {},
   "outputs": [],
   "source": [
    "#County and property type analysis\n",
    "def calculate_avg_prices(housing_data):\n",
    "    # Get user input for county and property type\n",
    "    county = input(\"Enter the county: \")\n",
    "    property_type = input(\"Enter the property type: \")\n",
    "    # county='Cocke County, TN'\n",
    "    # property_type='All Residential'\n",
    "    print(f'Calculating for county: {county} and property type {property_type}')\n",
    "    # Filter the dataset based on user input\n",
    "    filtered_data = housing_data[(housing_data['region'] == county) & (housing_data['property_type'] == property_type)]\n",
    "    \n",
    "    # Calculate average list price, average sale price, average PPSF list price, and average PPSF sale price\n",
    "    total_listing = filtered_data['inventory'].count()\n",
    "    home_sold = filtered_data['homes_sold'].count()\n",
    "    avg_list_price = filtered_data['median_list_price'].mean()\n",
    "    avg_sale_price = filtered_data['median_sale_price'].mean()\n",
    "    \n",
    "    # Display the results\n",
    "    print(f\"Total listings: {total_listing}\")\n",
    "    print(f\"Total home sold: {home_sold}\")\n",
    "    print(f\"Average List Price: ${avg_list_price:.2f}\")\n",
    "    print(f\"Average Sale Price: ${avg_sale_price:.2f}\")"
   ]
  },
  {
   "cell_type": "code",
   "execution_count": 18,
   "metadata": {},
   "outputs": [
    {
     "name": "stdout",
     "output_type": "stream",
     "text": [
      "Calculating for county: Cocke County, TN and property type All Residential\n",
      "Total listings: 12\n",
      "Total home sold: 12\n",
      "Average List Price: $301482.46\n",
      "Average Sale Price: $248399.96\n"
     ]
    }
   ],
   "source": [
    "calculate_avg_prices(housing_data)"
   ]
  },
  {
   "cell_type": "markdown",
   "metadata": {},
   "source": [
    "Q3.What is the regular monthly total sales for the period through the year 2023, and how do we visually present those using a line graph?"
   ]
  },
  {
   "cell_type": "code",
   "execution_count": 19,
   "metadata": {},
   "outputs": [],
   "source": [
    "#total sales for each month\n",
    "def total_Sales_per_month(housing_data):\n",
    "    housing_data['period_begin'] = pd.to_datetime(housing_data['period_begin'])\n",
    "\n",
    "    # Extract month from 'period_begin'\n",
    "    housing_data['month'] = housing_data['period_begin'].dt.month\n",
    "\n",
    "    # Group by month and calculate total sale price for each month\n",
    "    total_sale_price_per_month = housing_data.groupby('month')['median_sale_price'].sum()/10000000\n",
    "    print(total_sale_price_per_month)\n",
    "    # Plot the line graph\n",
    "    plt.plot(total_sale_price_per_month.index, total_sale_price_per_month.values, marker='o', linestyle='-')\n",
    "    plt.title('Total Sale Price Per Month')\n",
    "    plt.xlabel('Month')\n",
    "    plt.ylabel('Total Sale Price (Billions)')\n",
    "    # Use month abbreviations on the x-axis\n",
    "    plt.xticks(range(1, 13), ['Jan', 'Feb', 'Mar', 'Apr', 'May', 'Jun', 'Jul', 'Aug', 'Sep', 'Oct', 'Nov', 'Dec'])  \n",
    "    # Format y-axis tick labels to display values in millions\n",
    "    plt.gca().yaxis.set_major_formatter('${:.0f}B'.format)\n",
    "    plt.grid(True)\n",
    "    plt.show()"
   ]
  },
  {
   "cell_type": "code",
   "execution_count": 20,
   "metadata": {},
   "outputs": [
    {
     "name": "stdout",
     "output_type": "stream",
     "text": [
      "month\n",
      "1     215.802992\n",
      "2     216.771846\n",
      "3     234.164103\n",
      "4     233.560431\n",
      "5     245.445120\n",
      "6     258.773824\n",
      "7     246.967610\n",
      "8     256.033984\n",
      "9     251.251699\n",
      "10    247.891097\n",
      "11    240.814134\n",
      "12    239.343868\n",
      "Name: median_sale_price, dtype: float64\n"
     ]
    },
    {
     "data": {
      "image/png": "[encoded data removed]",
      "text/plain": [
       "<Figure size 640x480 with 1 Axes>"
      ]
     },
     "metadata": {},
     "output_type": "display_data"
    }
   ],
   "source": [
    "total_Sales_per_month(housing_data)"
   ]
  },
  {
   "cell_type": "markdown",
   "metadata": {},
   "source": [
    "Q4.Which state has maximum sales?"
   ]
  },
  {
   "cell_type": "code",
   "execution_count": 21,
   "metadata": {},
   "outputs": [],
   "source": [
    "#Which state has maximum sales\n",
    "\n",
    "def Maximum_sales_state(housing_data):\n",
    "    # Group by 'state' and calculate the total sales for each state\n",
    "    total_sales_per_state = housing_data.groupby('state')['median_sale_price'].sum()\n",
    "\n",
    "    # Convert total sales to billions\n",
    "    total_sales_per_state_billion = total_sales_per_state / 1000000000  # Convert to billions\n",
    "\n",
    "    # Find the state with maximum sales\n",
    "    max_sales_state = total_sales_per_state_billion.idxmax()\n",
    "    max_sales_amount = total_sales_per_state_billion.max()\n",
    "\n",
    "    print(f\"The state with the maximum sales is {max_sales_state} with total sales of {max_sales_amount:.2f} billion dollars.\")"
   ]
  },
  {
   "cell_type": "code",
   "execution_count": 22,
   "metadata": {},
   "outputs": [
    {
     "name": "stdout",
     "output_type": "stream",
     "text": [
      "The state with the maximum sales is Texas with total sales of 1.79 billion dollars.\n"
     ]
    }
   ],
   "source": [
    "Maximum_sales_state(housing_data)"
   ]
  },
  {
   "cell_type": "markdown",
   "metadata": {},
   "source": [
    "Q5.How does the analysis of home listings vary on a monthly basis, and could you plot a side-by-side graph to visualize these differences?"
   ]
  },
  {
   "cell_type": "code",
   "execution_count": 23,
   "metadata": {},
   "outputs": [],
   "source": [
    "#Monthly home listing analysis\n",
    "\n",
    "def monthly_analysis(housing_data):\n",
    "    # Convert 'period_begin' to datetime format\n",
    "    housing_data['period_begin'] = pd.to_datetime(housing_data['period_begin'])\n",
    "\n",
    "    # Extract month from 'period_begin'\n",
    "    housing_data['month'] = housing_data['period_begin'].dt.strftime('%b')\n",
    "    housing_data['total_off_market_count'] = housing_data['off_market_in_two_weeks'] * housing_data['inventory'] \n",
    "\n",
    "    # Group by month and calculate total inventory, total new listings, and total off-market listings\n",
    "    monthly_stats = housing_data.groupby('month').agg(\n",
    "        total_inventory=('inventory', 'sum'),\n",
    "        total_new_listings=('new_listings', 'sum'),\n",
    "        total_off_market=('total_off_market_count', 'sum')\n",
    "    ).reset_index()\n",
    "\n",
    "\n",
    "    # Define the order of months\n",
    "    month_order = ['Jan', 'Feb', 'Mar', 'Apr', 'May', 'Jun', 'Jul', 'Aug', 'Sep', 'Oct', 'Nov', 'Dec']\n",
    "\n",
    "    # Convert month to categorical data type with the correct order\n",
    "    monthly_stats['month'] = pd.Categorical(monthly_stats['month'], categories=month_order, ordered=True)\n",
    "\n",
    "    # Sort DataFrame based on month\n",
    "    monthly_stats = monthly_stats.sort_values(by='month')  \n",
    "\n",
    "    # Display the results\n",
    "    print(monthly_stats.to_string(index=False))\n",
    "\n",
    "    # Plotting\n",
    "    # Set the width of the bars\n",
    "    bar_width = 0.3\n",
    "\n",
    "    # Define the x-axis positions for each category\n",
    "    x_indexes = np.arange(len(monthly_stats['month']))\n",
    "    #x_indexes = monthly_stats.index\n",
    "\n",
    "    # Plotting\n",
    "    plt.figure(figsize=(10, 6))\n",
    "\n",
    "    # Plot total inventory\n",
    "    plt.bar(x_indexes - bar_width, monthly_stats['total_inventory'], width=bar_width, color='skyblue', label='Total Inventory')\n",
    "    \n",
    "    # Plot total new listings\n",
    "    plt.bar(x_indexes, monthly_stats['total_new_listings'], width=bar_width, color='orange', label='Total New Listings', alpha=0.7)\n",
    "    \n",
    "    # Plot total off-market listings\n",
    "    plt.bar(x_indexes + bar_width, monthly_stats['total_off_market'], width=bar_width, color='green', label='Total Off-Market Listings', alpha=0.7)\n",
    "\n",
    "    plt.xlabel('Month')\n",
    "    plt.ylabel('Inventory')\n",
    "    plt.title('Monthly Home Listing Analysis')\n",
    "    plt.legend()\n",
    "    plt.xticks(ticks=x_indexes, labels=monthly_stats['month'], rotation=45)\n",
    "    plt.tight_layout()\n",
    "    plt.show()"
   ]
  },
  {
   "cell_type": "code",
   "execution_count": 24,
   "metadata": {},
   "outputs": [
    {
     "name": "stdout",
     "output_type": "stream",
     "text": [
      "month  total_inventory  total_new_listings  total_off_market\n",
      "  Jan        1436640.0            561038.0     435590.910458\n",
      "  Feb        1394497.0            579665.0     511328.099577\n",
      "  Mar        1409105.0            768889.0     533234.701771\n",
      "  Apr        1424562.0            748404.0     549359.503064\n",
      "  May        1476311.0            850985.0     564750.354958\n",
      "  Jun        1534547.0            855081.0     549802.292864\n",
      "  Jul        1565108.0            773777.0     530879.690563\n",
      "  Aug        1605784.0            803489.0     533166.835462\n",
      "  Sep        1664589.0            742267.0     529536.182358\n",
      "  Oct        1685924.0            714924.0     507641.626145\n",
      "  Nov        1633104.0            579277.0     433817.799484\n",
      "  Dec        1450003.0            408703.0     344605.194070\n"
     ]
    },
    {
     "data": {
      "image/png": "[encoded data removed]",
      "text/plain": [
       "<Figure size 1000x600 with 1 Axes>"
      ]
     },
     "metadata": {},
     "output_type": "display_data"
    }
   ],
   "source": [
    "monthly_analysis(housing_data)"
   ]
  },
  {
   "cell_type": "markdown",
   "metadata": {},
   "source": [
    "Q6.List the top 10 states with maximum sales"
   ]
  },
  {
   "cell_type": "code",
   "execution_count": 25,
   "metadata": {},
   "outputs": [
    {
     "name": "stdout",
     "output_type": "stream",
     "text": [
      "Top 10 states with highest total sales (in billions):\n",
      "         state Total Sales (Billion)\n",
      "    Washington                $0.77B\n",
      "     Tennessee                 $0.9B\n",
      "      New York                 $1.0B\n",
      "       Florida                 $1.1B\n",
      "       Georgia                $1.22B\n",
      "North Carolina                $1.22B\n",
      "      Colorado                $1.38B\n",
      "      Virginia                $1.59B\n",
      "    California                $1.74B\n",
      "         Texas                $1.79B\n"
     ]
    },
    {
     "data": {
      "image/png": "[encoded data removed]",
      "text/plain": [
       "<Figure size 1000x600 with 1 Axes>"
      ]
     },
     "metadata": {},
     "output_type": "display_data"
    }
   ],
   "source": [
    "#top 10 state with max housing sale price\n",
    "\n",
    "def state_maximum_sale_price(housing_data):\n",
    "\n",
    "    # Group by 'state' and calculate the total sales for each state\n",
    "    total_sales_per_state = housing_data.groupby('state')['median_sale_price'].sum() / 1000000000\n",
    "    total_sales_per_state_billion = total_sales_per_state.round(2)  # Round to two decimal places\n",
    "\n",
    "    # Sort states based on total sales and get the top 10 states\n",
    "    top_10_states = total_sales_per_state_billion.nlargest(10)\n",
    "    top_10_states = top_10_states.sort_values(ascending=True)  # Sort in ascending order\n",
    "    top_10_states = top_10_states.reset_index().rename(columns={\"median_sale_price\": \"Total Sales (Billion)\"})\n",
    "    top_10_states['Total Sales (Billion)'] = top_10_states['Total Sales (Billion)'].apply(lambda x: '$' + str(x) + 'B')\n",
    "\n",
    "    # Display the top 10 states\n",
    "    print(\"Top 10 states with highest total sales (in billions):\")\n",
    "    print(top_10_states.to_string(index=False))\n",
    "\n",
    "    \n",
    "    return top_10_states\n",
    "\n",
    "def main():\n",
    "    housing_data = pd.read_csv('redfin_data_2023.csv')\n",
    "    top_10_states = state_maximum_sale_price(housing_data)\n",
    "\n",
    "    # Plotting\n",
    "    plt.figure(figsize=(10, 6))\n",
    "    plt.bar(top_10_states['state'], top_10_states['Total Sales (Billion)'], color='skyblue')\n",
    "    plt.xlabel('State')\n",
    "    plt.ylabel('Total Sales (Billion)')\n",
    "    plt.title('Top 10 States with Highest Total Sales')\n",
    "    plt.xticks(rotation=45)\n",
    "    plt.tight_layout()\n",
    "    plt.gca().invert_xaxis()  # Invert x-axis\n",
    "    plt.show()\n",
    "\n",
    "if __name__ == \"__main__\":\n",
    "    main()\n",
    "\n"
   ]
  },
  {
   "cell_type": "code",
   "execution_count": 26,
   "metadata": {},
   "outputs": [],
   "source": [
    "#top 10 state with max housing sale price\n",
    "\n",
    "def state_maximum_sale_price(housing_data):\n",
    "\n",
    "    # Group by 'state' and calculate the total sales for each state\n",
    "    total_sales_per_state = housing_data.groupby('state')['median_sale_price'].sum() / 1000000000\n",
    "    total_sales_per_state_billion = total_sales_per_state.round(2)  # Round to two decimal places\n",
    "\n",
    "    # Sort states based on total sales and get the top 10 states\n",
    "    top_10_states = total_sales_per_state_billion.nlargest(10)\n",
    "    top_10_states = top_10_states.sort_values(ascending=True)  # Sort in ascending order\n",
    "    top_10_states = top_10_states.reset_index().rename(columns={\"median_sale_price\": \"Total Sales (Billion)\"})\n",
    "    top_10_states['Total Sales (Billion)'] = top_10_states['Total Sales (Billion)'].apply(lambda x: '$' + str(x) + 'B')\n",
    "\n",
    "    # Display the top 10 states\n",
    "    print(\"Top 10 states with highest total sales (in billions):\")\n",
    "    print(top_10_states.to_string(index=False))\n",
    "\n",
    "    # Plotting\n",
    "    plt.figure(figsize=(10, 6))\n",
    "    plt.bar(top_10_states['state'], top_10_states['Total Sales (Billion)'], color='skyblue')\n",
    "    plt.xlabel('State')\n",
    "    plt.ylabel('Total Sales (Billion)')\n",
    "    plt.title('Top 10 States with Highest Total Sales')\n",
    "    plt.xticks(rotation=45)\n",
    "    plt.tight_layout()\n",
    "    plt.gca().invert_xaxis()  # Invert x-axis\n",
    "    plt.show()\n",
    "\n",
    "\n"
   ]
  }
 ],
 "metadata": {
  "kernelspec": {
   "display_name": "Python 3",
   "language": "python",
   "name": "python3"
  },
  "language_info": {
   "codemirror_mode": {
    "name": "ipython",
    "version": 3
   },
   "file_extension": ".py",
   "mimetype": "text/x-python",
   "name": "python",
   "nbconvert_exporter": "python",
   "pygments_lexer": "ipython3",
   "version": "3.9.13"
  }
 },
 "nbformat": 4,
 "nbformat_minor": 2
}
